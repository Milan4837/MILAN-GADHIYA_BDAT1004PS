{
 "cells": [
  {
   "cell_type": "markdown",
   "metadata": {},
   "source": [
    "# Question 1: 'C#'\n",
    "* What data type is each of the following?"
   ]
  },
  {
   "cell_type": "code",
   "execution_count": null,
   "metadata": {},
   "outputs": [],
   "source": [
    "// Here I have wrote the direct answers. \n",
    "// If you want to cross check the answes then run the below shell and verified it using written code.\n",
    "\n",
    "5          : it has integer datatype\n",
    "5.0        : it can be stored as float/double datatype. if we don't specify then its double\n",
    "5 > 1      : it is boolean datatype\n",
    "'5'        : it is charecter datatype\n",
    "5 * 2      : it has int datatype. The multiplication of whole numbers.\n",
    "'5' * 2    : it has int datatype. The multiplication of whole number with ASCII value of given charecter.\n",
    "'5' + '2'  : it has int datatype. Addition of bothe the charecter's ASCII values.\n",
    "5 / 2      : it has int datatype by defalut but we need ans in fraction then we have to specify double.\n",
    "5 % 2      : it has int datatype\n",
    "{5,2,1}    : it is array with int datatype\n",
    "5 == 3     : it is boolean datatype\n",
    "pi (3.14)  : it is float/double datatype"
   ]
  },
  {
   "cell_type": "code",
   "execution_count": 5,
   "metadata": {},
   "outputs": [
    {
     "name": "stdout",
     "output_type": "stream",
     "text": [
      "In system DataType of given expression is: System.Int32\n",
      "The resultant value of given expression is: 106 \n"
     ]
    }
   ],
   "source": [
    "// here is the code that can check DataType of all of the above expression\n",
    "\n",
    "var a = '5' * 2;        // this is variable (a) in this variable assign the expression,\n",
    "                        // who's DataType you want to find out\n",
    "Type tp = a.GetType(); \n",
    "Console.WriteLine(\"In system DataType of given expression is: {0}\",tp);\n",
    "Console.WriteLine(\"The resultant value of given expression is: {0} \",a);"
   ]
  },
  {
   "cell_type": "markdown",
   "metadata": {},
   "source": [
    "# Question 2: 'C#'\n",
    "\n",
    "Write (and evaluate) C# expressions that answer these questions:"
   ]
  },
  {
   "cell_type": "markdown",
   "metadata": {},
   "source": [
    "a. How many letters are there in 'Supercalifragilisticexpialidocious'?"
   ]
  },
  {
   "cell_type": "code",
   "execution_count": 30,
   "metadata": {},
   "outputs": [
    {
     "name": "stdout",
     "output_type": "stream",
     "text": [
      "The number of letters are in 'Supercalifragilisticexpialidocious' is: 34\r\n"
     ]
    }
   ],
   "source": [
    "// this is the long approach using the for loop to find the number of letters.\n",
    "\n",
    "String input_str = \"Supercalifragilisticexpialidocious\"; // simply adding a string in the variable\n",
    "int count_letter = 0;\n",
    "\n",
    "// using a for loop finding out the number of letters in string. \n",
    "// here if the string contains the blank spaces then we should add the \n",
    "// if condition that can only true for letters not for blank space, comma, periods and numbers.\n",
    "\n",
    "for(int i=0; i<input_str.Length;i++)\n",
    "{\n",
    "    if (Char.IsDigit(input_str[i]))\n",
    "    {\n",
    "        // do nothing if the current char is a number\n",
    "    }\n",
    "    else if(input_str[i]!=' ' && input_str[i]!=',' && input_str[i]!='.') \n",
    "    {\n",
    "        count_letter++;\n",
    "    }\n",
    "}\n",
    "\n",
    "Console.WriteLine(\"The number of letters are in '{0}' is: {1}\",input_str,count_letter);"
   ]
  },
  {
   "cell_type": "markdown",
   "metadata": {},
   "source": [
    "b. Does 'Supercalifragilisticexpialidocious' contain 'ice' as a substring?"
   ]
  },
  {
   "cell_type": "code",
   "execution_count": 48,
   "metadata": {},
   "outputs": [
    {
     "name": "stdout",
     "output_type": "stream",
     "text": [
      "Dose the given string contains the substring? \n",
      "True\r\n"
     ]
    }
   ],
   "source": [
    "// here I have implemented a simple logic to check that given string contains the sub string or not.\n",
    "// I have used the predefined Contains() method to check sub string is inside the string. It returns boolean value.\n",
    "\n",
    "String given_string = \"Supercalifragilisticexpialidocious\";\n",
    "String sub_string = \"ice\";\n",
    "Boolean result = given_string.Contains(sub_string);\n",
    "Console.WriteLine($\"Dose the given string contains the substring? \\n{result}\");"
   ]
  },
  {
   "cell_type": "markdown",
   "metadata": {},
   "source": [
    "c. Which of the following words is the longest: Supercalifragilisticexpialidocious, Honorificabilitudinitatibus, or Bababadalgharaghtakamminarronnkonn?"
   ]
  },
  {
   "cell_type": "code",
   "execution_count": 31,
   "metadata": {},
   "outputs": [
    {
     "name": "stdout",
     "output_type": "stream",
     "text": [
      "both the words 'Supercalifragilisticexpialidocious' and 'Bababadalgharaghtakamminarronnkonn' has equal in length.\r\n"
     ]
    }
   ],
   "source": [
    "// here I have stored predefined strings into the variables  \n",
    "\n",
    "String str1 = \"Supercalifragilisticexpialidocious\";\n",
    "String str2 = \"Honorificabilitudinitatibus\";\n",
    "String str3 = \"Bababadalgharaghtakamminarronnkonn\";\n",
    "\n",
    "// from here I am checking the longest string based on the length of the string\n",
    "if (str1.Length > str2.Length) \n",
    "{\n",
    "    if(str1.Length > str3.Length)\n",
    "    {\n",
    "        Console.WriteLine(\"the longest word is {0}\",str1);\n",
    "    }\n",
    "    else if(str3.Length > str1.Length)\n",
    "    {\n",
    "        Console.WriteLine(\"the longest word is {0}\",str3);\n",
    "    }\n",
    "    else if(str1.Length == str3.Length) \n",
    "    {\n",
    "        Console.WriteLine(\"both the words '{0}' and '{1}' has equal in length.\",str1, str3);\n",
    "    }\n",
    "}\n",
    "else\n",
    "{\n",
    "    if(str2.Length > str3.Length)\n",
    "    {\n",
    "        Console.WriteLine(\"the longest word is {0}\",str2);\n",
    "    }\n",
    "    else if(str3.Length > str2.Length)\n",
    "    {\n",
    "        Console.WriteLine(\"the longest word is {0}\",str3);\n",
    "    }\n",
    "    else if(str2.Length == str3.Length)\n",
    "    {\n",
    "        Console.WriteLine(\"both the words '{0}' and '{1}' has equal in length.\",str2, str3);\n",
    "    }\n",
    "}"
   ]
  },
  {
   "cell_type": "markdown",
   "metadata": {},
   "source": [
    "d. Which composer comes first in the dictionary: 'Berlioz', 'Borodin', 'Brian', 'Bartok', 'Bellini', 'Buxtehude', 'Bernstein'. Which one comes last?"
   ]
  },
  {
   "cell_type": "code",
   "execution_count": null,
   "metadata": {},
   "outputs": [],
   "source": [
    "If we are considering the scenarion of real world dictionary then:\n",
    "\n",
    "1. Bartok (comes first)\n",
    "2. Buxtehude (comes last)\n",
    "\n",
    "\n",
    "If we are considering the scenario of C# generated dictionary using Key Value pair then:\n",
    "\n",
    "1. Berlioz (comes first)\n",
    "2. Bernstein (comes last)"
   ]
  },
  {
   "cell_type": "markdown",
   "metadata": {},
   "source": [
    "# Question 3: 'C#'"
   ]
  },
  {
   "cell_type": "markdown",
   "metadata": {},
   "source": [
    "Implement function triangleArea(a,b,c) that takes as input the lengths of the 3\n",
    "sides of a triangle and returns the area of the triangle. By Heron's formula, the area\n",
    "of a triangle with side lengths a, b, and c is\n",
    "s(s - a)(s -b)(s -c), where\n",
    "s = (a + b + c) /2.\n",
    "\n",
    "triangleArea(2,2,2)  \n",
    "1.7320508075688772"
   ]
  },
  {
   "cell_type": "code",
   "execution_count": 35,
   "metadata": {},
   "outputs": [
    {
     "name": "stdout",
     "output_type": "stream",
     "text": [
      "Area of Triangle is : \n",
      " 1.7320508075688772\r\n"
     ]
    }
   ],
   "source": [
    "// here I have created the function which accepts 3 sides values through arguments and returns the calculated area.\n",
    "double triangleArea(int side1,int side2,int side3)\n",
    "{\n",
    "    \n",
    "     double s = (side1 + side2 + side3) / 2; \n",
    "     double area = Math.Sqrt(s*(s-side1) * (s - side2) * (s - side3)); \n",
    "      \n",
    "    return area;\n",
    "}\n",
    "\n",
    "Console.WriteLine(\"Area of Triangle is : \\n {0}\",triangleArea(2,2,2));"
   ]
  },
  {
   "cell_type": "markdown",
   "metadata": {},
   "source": [
    "# Qusestion 4: 'C#'"
   ]
  },
  {
   "cell_type": "markdown",
   "metadata": {},
   "source": [
    "Write a program in C# Sharp to separate odd and even integers in separate arrays.\n",
    "Go to the editor  \n",
    "Test Data :  \n",
    "Input the number of elements to be stored in the array :5  \n",
    "Input 5 elements in the array :  \n",
    "element - 0 : 25  \n",
    "element - 1 : 47  \n",
    "element - 2 : 42  \n",
    "element - 3 : 56  \n",
    "element - 4 : 32  \n",
    "Expected Output:  \n",
    "The Even elements are:  \n",
    "42 56 32  \n",
    "The Odd elements are :  \n",
    "25 47  "
   ]
  },
  {
   "cell_type": "markdown",
   "metadata": {},
   "source": [
    "### `NOTE:` This code is not working in the jupyter notebook.  \n",
    "JupyterNotebook dose not support the Console.ReadLine() C# input function.  \n",
    "To run this code use `visual studio code` or `visual studio`."
   ]
  },
  {
   "cell_type": "code",
   "execution_count": null,
   "metadata": {},
   "outputs": [],
   "source": [
    "using System;\n",
    "using System.IO;\n",
    "\n",
    "\n",
    "namespace CharacterEncoding\n",
    "{\n",
    "    class Program\n",
    "    {\n",
    "        static void Main(string[] args)\n",
    "        {\n",
    "            String c;\n",
    "\n",
    "            Console.WriteLine(\"Input the number of elements to be stored in the array :\");\n",
    "            c = Console.ReadLine(); // this will scan the input from the user\n",
    "            int a = Convert.ToInt32(c);\n",
    "\n",
    "            String[] input = new String[a];\n",
    "\n",
    "\n",
    "            for (int i = 0; i < a; i++)\n",
    "            {\n",
    "                Console.WriteLine(\"element - {0}: \",i);\n",
    "\n",
    "               input[i] = Console.ReadLine();\n",
    "            }\n",
    "\n",
    "            String[] odd = new String[a];\n",
    "            String[] even = new String[a];\n",
    "\n",
    "            int e = 0;\n",
    "            int o = 0;\n",
    "            int x;\n",
    "\n",
    "            for (int j = 0; j < a; j++)\n",
    "            {\n",
    "                x = Convert.ToInt32(input[j]);\n",
    "                if (x % 2 == 0) // checking whether it is odd or even\n",
    "                {\n",
    "                    even[e] = input[j];\n",
    "                    e++;\n",
    "                }\n",
    "                else\n",
    "                {\n",
    "                    odd[o] = input[j];\n",
    "                    o++;\n",
    "                }\n",
    "            }\n",
    "            Console.WriteLine(\"The Even elements are: \\n\");\n",
    "            for (int k = 0; k < e; k++)\n",
    "            {\n",
    "                \n",
    "                Console.WriteLine(\" {0}\", even[k]);\n",
    "            }\n",
    "            Console.WriteLine(\"The Odd elements are: \\n\");\n",
    "            for (int k = 0; k < o; k++)\n",
    "            {\n",
    "                \n",
    "                Console.WriteLine(\" {0}\", odd[k]);\n",
    "            }\n",
    "\n",
    "        }\n",
    "    }\n",
    "}\n"
   ]
  },
  {
   "attachments": {
    "output.jpg": {
     "image/jpeg": "[encoded data removed]"
    }
   },
   "cell_type": "markdown",
   "metadata": {},
   "source": [
    "Output Image:  \n",
    "![output.jpg](attachment:output.jpg)"
   ]
  },
  {
   "cell_type": "markdown",
   "metadata": {},
   "source": [
    "# Question 5: 'C#'"
   ]
  },
  {
   "cell_type": "markdown",
   "metadata": {},
   "source": [
    "a. Write a function inside(x,y,x1,y1,x2,y2) that returns True or False depending on whether the point (x,y) lies in the rectangle with lower left corner (x1,y1) and upper right corner (x2,y2).\n",
    "\n",
    "inside(1,1,0,0,2,3)  \n",
    "True\n",
    "\n",
    "inside(-1,-1,0,0,2,3)  \n",
    "False"
   ]
  },
  {
   "cell_type": "code",
   "execution_count": 39,
   "metadata": {},
   "outputs": [
    {
     "name": "stdout",
     "output_type": "stream",
     "text": [
      "inside(1,1,0,0,2,3)\n",
      "True\n",
      "inside(-1,-1,0,0,2,3)\n",
      "False\n"
     ]
    }
   ],
   "source": [
    "// function with the arguments to receive vlaue and return the boolean value true or false.\n",
    "public bool inside(int x,int y,int x1,int y1,int x2, int y2) \n",
    "{\n",
    "   \n",
    "    if(x1 < x && x < x2)\n",
    "    {\n",
    "        if (y1 < y && y < y2)\n",
    "        {\n",
    "            return true;\n",
    "        }\n",
    "        else\n",
    "        {\n",
    "            return false;\n",
    "        }\n",
    "    }\n",
    "    else\n",
    "    {\n",
    "        return false;\n",
    "    }\n",
    "}\n",
    "\n",
    "Console.WriteLine(\"inside(1,1,0,0,2,3)\\n{0}\",inside(1,1,0,0,2,3)); \n",
    "Console.WriteLine(\"inside(-1,-1,0,0,2,3)\\n{0}\",inside(-1,-1,0,0,2,3));"
   ]
  },
  {
   "cell_type": "markdown",
   "metadata": {},
   "source": [
    "### `NOTE:` From now on the Python code is written. Please change the kernel from C# to python."
   ]
  },
  {
   "cell_type": "markdown",
   "metadata": {},
   "source": [
    "# Question 6: Python"
   ]
  },
  {
   "cell_type": "markdown",
   "metadata": {},
   "source": [
    "You can turn a word into pig-Latin using the following two rules (simplified):  \n",
    "• If the word starts with a consonant, move that letter to the end and append 'ay'. For example, 'happy' becomes 'appyhay' and 'pencil' becomes 'encilpay'.  \n",
    "• If the word starts with a vowel, simply append 'way' to the end of the word. For example, 'enter' becomes 'enterway' and 'other' becomes 'otherway' . For our purposes, there are 5 vowels: a, e, i, o, u (so we count y as a consonant).  \n",
    "Write a function pig() that takes a word (i.e., a string) as input and returns its pig-Latin form. Your function should still work if the input word contains upper case characters. Your output should always be lower case however.\n",
    "\n",
    "pig('happy')  \n",
    "'appyhay'\n",
    "\n",
    "pig('Enter')  \n",
    "'enterway'"
   ]
  },
  {
   "cell_type": "code",
   "execution_count": 5,
   "metadata": {},
   "outputs": [
    {
     "name": "stdout",
     "output_type": "stream",
     "text": [
      "pig('happy')\n",
      "appyhay\n",
      "\n",
      "pig('Enter')\n",
      "enterway\n"
     ]
    }
   ],
   "source": [
    "# function name pig that can convert any given string into pig latin formate\n",
    "def pig(str):\n",
    "    str_lower = str.lower()\n",
    "    if str_lower[0] in ('a','e','i','o','u'):\n",
    "        pig_latin = str_lower + 'way'\n",
    "        return pig_latin\n",
    "    else:\n",
    "        pig_latin = str_lower[1:] + str_lower[0] + 'ay'\n",
    "        return pig_latin\n",
    "\n",
    "print(\"pig('happy')\")\n",
    "print(pig(\"happy\"))\n",
    "print()\n",
    "print(\"pig('Enter')\")\n",
    "print(pig(\"Enter\"))\n"
   ]
  },
  {
   "cell_type": "markdown",
   "metadata": {},
   "source": [
    "# Question 7: Python"
   ]
  },
  {
   "cell_type": "markdown",
   "metadata": {},
   "source": [
    "File bloodtype1.txt records blood-types of patients (A, B, AB, O or OO) at a clinic. Write a function bldcount() that reads the file with name name and reports (i.e., prints) how many patients there are in each bloodtype.\n",
    "\n"
   ]
  },
  {
   "cell_type": "code",
   "execution_count": 11,
   "metadata": {},
   "outputs": [
    {
     "name": "stdout",
     "output_type": "stream",
     "text": [
      "There are 15 patients of blood type A\n",
      "There are 2 patients of blood type B\n",
      "There are 11 patients of blood type AB\n",
      "There are 15 patients of blood type O\n",
      "There are 0 patients of blood type OO\n"
     ]
    }
   ],
   "source": [
    "# function named bldcount that accepts the file name and print the count of each blood group in the given file.\n",
    "def bldcount(file_name):\n",
    "    \n",
    "    A=0\n",
    "    B=0\n",
    "    AB=0\n",
    "    O=0\n",
    "    OO=0\n",
    "    \n",
    "    file=open(file_name,'r')\n",
    "    file_content = file.read()\n",
    "    bldtype = file_content.split()\n",
    "    for i in bldtype:\n",
    "        if i=='A':\n",
    "            A+=1\n",
    "        elif i=='B':\n",
    "            B+=1\n",
    "        elif i=='AB':\n",
    "            AB+=1\n",
    "        elif i=='O':\n",
    "            O+=1\n",
    "        elif i=='OO':\n",
    "            OO+=1\n",
    "    print('There are {} patients of blood type A'.format(A))\n",
    "    print('There are {} patients of blood type B'.format(B))\n",
    "    print('There are {} patients of blood type AB'.format(AB))\n",
    "    print('There are {} patients of blood type O'.format(O))\n",
    "    print('There are {} patients of blood type OO'.format(OO))\n",
    "          \n",
    "          \n",
    "bldcount('bloodtype.txt')"
   ]
  },
  {
   "cell_type": "markdown",
   "metadata": {},
   "source": [
    "# Question 8: Python"
   ]
  },
  {
   "cell_type": "markdown",
   "metadata": {},
   "source": [
    "Write a function curconv() that takes as input:  \n",
    "1. a currency represented using a string (e.g., 'JPY' for the Japanese Yen or 'EUR' for the Euro)  \n",
    "2. an amount  \n",
    "and then converts and returns the amount in US dollars.\n",
    "\n",
    "curconv('EUR', 100)  \n",
    "122.96544  \n",
    "\n",
    "curconv('JPY', 100)  \n",
    "1.241401  "
   ]
  },
  {
   "cell_type": "code",
   "execution_count": 13,
   "metadata": {},
   "outputs": [
    {
     "name": "stdout",
     "output_type": "stream",
     "text": [
      "curconv('EUR',100)\n",
      "122.96544\n",
      "\n",
      "curconv('JPY', 100)\n",
      "1.241401\n"
     ]
    }
   ],
   "source": [
    "# function named curconv that accepts the symbol of currency and amount value. function will return the amount in US dollars.\n",
    "def curconv(symbol,amount):\n",
    "    file=open('currencies.txt','r')\n",
    "    file_content = file.read()\n",
    "    a = []\n",
    "    b = file_content.splitlines()\n",
    "\n",
    "    for k in range(len(b)):\n",
    "        a.append(b[k].split())\n",
    "    for k in range(len(a)):\n",
    "        if a[k][0]==symbol:\n",
    "            result=int(amount)*float(a[k][1])\n",
    "            break\n",
    "    return result\n",
    "\n",
    "print(\"curconv('EUR',100)\")\n",
    "print(curconv('EUR',100))\n",
    "print()\n",
    "print(\"curconv('JPY', 100)\")\n",
    "print(curconv('JPY', 100))"
   ]
  },
  {
   "cell_type": "markdown",
   "metadata": {},
   "source": [
    "# Question 9: Python"
   ]
  },
  {
   "cell_type": "markdown",
   "metadata": {},
   "source": [
    "Each of the following will cause an exception (an error). Identify what type of exception each will cause.  "
   ]
  },
  {
   "cell_type": "markdown",
   "metadata": {},
   "source": [
    "* Trying to add incompatible variables, as in adding 6 + ‘a’  \n",
    "> TypeError: unsupported operand type(s) for +: 'int' and 'str'\n",
    "\n",
    "* Referring to the 12th item of a list that has only 10 items \n",
    "> IndexError: list index out of range\n",
    "\n",
    "\n",
    "* Using a value that is out of range for a function’s input, such as calling math.sqrt( 1.0)  \n",
    "> ValueError: math domain error\n",
    "\n",
    "\n",
    "* Using an undeclared variable, such as print(x) when x has not been defined  \n",
    "> NameError: name 'x1' is not defined \n",
    "\n",
    "\n",
    "* Trying to open a file that does not exist, such as mistyping the file name or looking in the wrong directory. \n",
    "> FileNotFoundError: [Errno 2] No such file or directory: 'harsh.txt'"
   ]
  },
  {
   "cell_type": "code",
   "execution_count": 16,
   "metadata": {},
   "outputs": [
    {
     "ename": "TypeError",
     "evalue": "unsupported operand type(s) for +: 'int' and 'str'",
     "output_type": "error",
     "traceback": [
      "\u001b[1;31m---------------------------------------------------------------------------\u001b[0m",
      "\u001b[1;31mTypeError\u001b[0m                                 Traceback (most recent call last)",
      "\u001b[1;32m<ipython-input-16-63a7ed804344>\u001b[0m in \u001b[0;36m<module>\u001b[1;34m\u001b[0m\n\u001b[1;32m----> 1\u001b[1;33m \u001b[1;36m6\u001b[0m \u001b[1;33m+\u001b[0m \u001b[1;34m'a'\u001b[0m\u001b[1;33m\u001b[0m\u001b[1;33m\u001b[0m\u001b[0m\n\u001b[0m",
      "\u001b[1;31mTypeError\u001b[0m: unsupported operand type(s) for +: 'int' and 'str'"
     ]
    }
   ],
   "source": [
    "6 + 'a'"
   ]
  },
  {
   "cell_type": "code",
   "execution_count": 17,
   "metadata": {},
   "outputs": [
    {
     "ename": "IndexError",
     "evalue": "list index out of range",
     "output_type": "error",
     "traceback": [
      "\u001b[1;31m---------------------------------------------------------------------------\u001b[0m",
      "\u001b[1;31mIndexError\u001b[0m                                Traceback (most recent call last)",
      "\u001b[1;32m<ipython-input-17-28ecaf46dd13>\u001b[0m in \u001b[0;36m<module>\u001b[1;34m\u001b[0m\n\u001b[0;32m      1\u001b[0m \u001b[0ma\u001b[0m\u001b[1;33m=\u001b[0m\u001b[1;33m[\u001b[0m\u001b[1;36m0\u001b[0m\u001b[1;33m,\u001b[0m\u001b[1;36m1\u001b[0m\u001b[1;33m,\u001b[0m\u001b[1;36m2\u001b[0m\u001b[1;33m,\u001b[0m\u001b[1;36m3\u001b[0m\u001b[1;33m,\u001b[0m\u001b[1;36m4\u001b[0m\u001b[1;33m,\u001b[0m\u001b[1;36m5\u001b[0m\u001b[1;33m,\u001b[0m\u001b[1;36m6\u001b[0m\u001b[1;33m,\u001b[0m\u001b[1;36m7\u001b[0m\u001b[1;33m,\u001b[0m\u001b[1;36m8\u001b[0m\u001b[1;33m,\u001b[0m\u001b[1;36m9\u001b[0m\u001b[1;33m]\u001b[0m\u001b[1;33m\u001b[0m\u001b[1;33m\u001b[0m\u001b[0m\n\u001b[1;32m----> 2\u001b[1;33m \u001b[0mprint\u001b[0m\u001b[1;33m(\u001b[0m\u001b[0ma\u001b[0m\u001b[1;33m[\u001b[0m\u001b[1;36m12\u001b[0m\u001b[1;33m]\u001b[0m\u001b[1;33m)\u001b[0m\u001b[1;33m\u001b[0m\u001b[1;33m\u001b[0m\u001b[0m\n\u001b[0m",
      "\u001b[1;31mIndexError\u001b[0m: list index out of range"
     ]
    }
   ],
   "source": [
    "a=[0,1,2,3,4,5,6,7,8,9]\n",
    "print(a[12])"
   ]
  },
  {
   "cell_type": "code",
   "execution_count": 18,
   "metadata": {},
   "outputs": [
    {
     "ename": "ValueError",
     "evalue": "math domain error",
     "output_type": "error",
     "traceback": [
      "\u001b[1;31m---------------------------------------------------------------------------\u001b[0m",
      "\u001b[1;31mValueError\u001b[0m                                Traceback (most recent call last)",
      "\u001b[1;32m<ipython-input-18-d39e523296ce>\u001b[0m in \u001b[0;36m<module>\u001b[1;34m\u001b[0m\n\u001b[0;32m      1\u001b[0m \u001b[1;32mimport\u001b[0m \u001b[0mmath\u001b[0m\u001b[1;33m\u001b[0m\u001b[1;33m\u001b[0m\u001b[0m\n\u001b[1;32m----> 2\u001b[1;33m \u001b[0mmath\u001b[0m\u001b[1;33m.\u001b[0m\u001b[0msqrt\u001b[0m\u001b[1;33m(\u001b[0m\u001b[1;33m-\u001b[0m\u001b[1;36m1.0\u001b[0m\u001b[1;33m)\u001b[0m\u001b[1;33m\u001b[0m\u001b[1;33m\u001b[0m\u001b[0m\n\u001b[0m",
      "\u001b[1;31mValueError\u001b[0m: math domain error"
     ]
    }
   ],
   "source": [
    "import math\n",
    "math.sqrt(-1.0)"
   ]
  },
  {
   "cell_type": "code",
   "execution_count": 19,
   "metadata": {},
   "outputs": [
    {
     "ename": "NameError",
     "evalue": "name 'x1' is not defined",
     "output_type": "error",
     "traceback": [
      "\u001b[1;31m---------------------------------------------------------------------------\u001b[0m",
      "\u001b[1;31mNameError\u001b[0m                                 Traceback (most recent call last)",
      "\u001b[1;32m<ipython-input-19-1fdd22afb09e>\u001b[0m in \u001b[0;36m<module>\u001b[1;34m\u001b[0m\n\u001b[1;32m----> 1\u001b[1;33m \u001b[0mprint\u001b[0m\u001b[1;33m(\u001b[0m\u001b[0mx1\u001b[0m\u001b[1;33m)\u001b[0m\u001b[1;33m\u001b[0m\u001b[1;33m\u001b[0m\u001b[0m\n\u001b[0m",
      "\u001b[1;31mNameError\u001b[0m: name 'x1' is not defined"
     ]
    }
   ],
   "source": [
    "print(x1)"
   ]
  },
  {
   "cell_type": "code",
   "execution_count": 20,
   "metadata": {},
   "outputs": [
    {
     "ename": "FileNotFoundError",
     "evalue": "[Errno 2] No such file or directory: 'harsh.txt'",
     "output_type": "error",
     "traceback": [
      "\u001b[1;31m---------------------------------------------------------------------------\u001b[0m",
      "\u001b[1;31mFileNotFoundError\u001b[0m                         Traceback (most recent call last)",
      "\u001b[1;32m<ipython-input-20-7c70d71b18cc>\u001b[0m in \u001b[0;36m<module>\u001b[1;34m\u001b[0m\n\u001b[1;32m----> 1\u001b[1;33m \u001b[0mfile\u001b[0m\u001b[1;33m=\u001b[0m\u001b[0mopen\u001b[0m\u001b[1;33m(\u001b[0m\u001b[1;34m'harsh.txt'\u001b[0m\u001b[1;33m,\u001b[0m\u001b[1;34m'r'\u001b[0m\u001b[1;33m)\u001b[0m\u001b[1;33m\u001b[0m\u001b[1;33m\u001b[0m\u001b[0m\n\u001b[0m",
      "\u001b[1;31mFileNotFoundError\u001b[0m: [Errno 2] No such file or directory: 'harsh.txt'"
     ]
    }
   ],
   "source": [
    "file=open('harsh.txt','r')"
   ]
  },
  {
   "cell_type": "markdown",
   "metadata": {},
   "source": [
    "# Question 10: Python"
   ]
  },
  {
   "cell_type": "markdown",
   "metadata": {},
   "source": [
    "Encryption is the process of hiding the meaning of a text by substituting letters in the message with other letters, according to some system.  \n",
    "If the process is successful, no one but the intended recipient can understand the encrypted message.  \n",
    "Cryptanalysis refers to attempts to undo the encryption, even if some details of the encryption are unknown  \n",
    "(for example, if an encrypted message has been intercepted).  \n",
    "The first step of cryptanalysis is often to build up a table of letter frequencies in the encrypted text.  \n",
    "Assume that the string letters is already defined as 'abcdefghijklmnopqrstuvwxyz'.  \n",
    "Write a function called frequencies() that takes a string as its only parameter, and returns a list of integers, showing the number of times each character appears in the text.  \n",
    "Your function may ignore any characters that are not in letters.\n",
    "\n",
    "\n",
    "frequencies('The quick red fox got bored and went home.')  \n",
    "[1, 1, 1, 3, 5, 1, 1, 2, 1, 0, 1, 0, 1, 2, 4, 0, 1, 2, 0, 2, 1, 0, 1, 1, 0, 0]\n",
    "\n",
    "\n",
    "frequencies('apple')"
   ]
  },
  {
   "cell_type": "code",
   "execution_count": 25,
   "metadata": {},
   "outputs": [
    {
     "name": "stdout",
     "output_type": "stream",
     "text": [
      "frequencies('The quick red fox got bored and went home.')\n",
      "[1, 1, 1, 3, 5, 1, 1, 2, 1, 0, 1, 0, 1, 2, 4, 0, 1, 2, 0, 2, 1, 0, 1, 1, 0, 0]\n",
      "\n",
      "frequencies('apple')\n",
      "[1, 0, 0, 0, 1, 0, 0, 0, 0, 0, 0, 1, 0, 0, 0, 2, 0, 0, 0, 0, 0, 0, 0, 0, 0, 0]\n"
     ]
    }
   ],
   "source": [
    "# function named frequencies that prints the count of each alphabet that how many times any latter is repeated in the given string.\n",
    "# the output sequence follows the latter count in A to Z order.\n",
    "def frequencies(str1):\n",
    "    letter_count = []\n",
    "    letters = ['a','b','c','d','e','f','g','h','i','j','k','l','m','n','o','p','q','r','s','t','u','v','w','x','y','z']\n",
    "    for i in range(len(letters)):\n",
    "        x = 0\n",
    "        for j in range(len(str1)):\n",
    "            if letters[i] == str1[j]:\n",
    "                x += 1\n",
    "        letter_count.append(x)\n",
    "    print(letter_count)\n",
    "\n",
    "print(\"frequencies('The quick red fox got bored and went home.')\")\n",
    "frequencies('The quick red fox got bored and went home.')\n",
    "print()\n",
    "print(\"frequencies('apple')\")\n",
    "frequencies('apple')"
   ]
  },
  {
   "cell_type": "code",
   "execution_count": null,
   "metadata": {},
   "outputs": [],
   "source": []
  }
 ],
 "metadata": {
  "kernelspec": {
   "display_name": "Python 3",
   "language": "python",
   "name": "python3"
  },
  "language_info": {
   "codemirror_mode": {
    "name": "ipython",
    "version": 3
   },
   "file_extension": ".py",
   "mimetype": "text/x-python",
   "name": "python",
   "nbconvert_exporter": "python",
   "pygments_lexer": "ipython3",
   "version": "3.8.2"
  }
 },
 "nbformat": 4,
 "nbformat_minor": 4
}
